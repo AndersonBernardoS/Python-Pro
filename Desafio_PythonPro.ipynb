{
  "nbformat": 4,
  "nbformat_minor": 0,
  "metadata": {
    "colab": {
      "name": "Desafio PythonPro",
      "provenance": [],
      "collapsed_sections": []
    },
    "kernelspec": {
      "display_name": "Python 3",
      "name": "python3"
    },
    "language_info": {
      "name": "python"
    }
  },
  "cells": [
    {
      "cell_type": "markdown",
      "metadata": {
        "id": "5pyjFZixFyU2"
      },
      "source": [
        "# Desafio PythonPro"
      ]
    },
    {
      "cell_type": "markdown",
      "metadata": {
        "id": "PO5hBwulFhBT"
      },
      "source": [
        "Nesse Notebook vou resolver vários exercícios da [Python Brasil](https://wiki.python.org.br/ListaDeExercicios)."
      ]
    },
    {
      "cell_type": "markdown",
      "metadata": {
        "id": "1QC1Z1JVH17Z"
      },
      "source": [
        "## [Estrutura Sequencial](https://wiki.python.org.br/EstruturaSequencial)"
      ]
    },
    {
      "cell_type": "markdown",
      "metadata": {
        "id": "JSZFaT1fIM40"
      },
      "source": [
        "Exercício 1:"
      ]
    },
    {
      "cell_type": "code",
      "metadata": {
        "colab": {
          "base_uri": "https://localhost:8080/"
        },
        "id": "yJpXm2KgIQOK",
        "outputId": "62445b64-8d49-4cbe-8636-e63f3f62491e"
      },
      "source": [
        "print('Olá Mundo!')"
      ],
      "execution_count": null,
      "outputs": [
        {
          "name": "stdout",
          "output_type": "stream",
          "text": [
            "Olá Mundo!\n"
          ]
        }
      ]
    },
    {
      "cell_type": "code",
      "metadata": {
        "colab": {
          "base_uri": "https://localhost:8080/"
        },
        "id": "MNcZAXGsIjyP",
        "outputId": "c12339a7-3216-4736-b790-65a8660861b8"
      },
      "source": [
        "type('Olá Mundo!')"
      ],
      "execution_count": null,
      "outputs": [
        {
          "data": {
            "text/plain": [
              "str"
            ]
          },
          "execution_count": 2,
          "metadata": {
            "tags": []
          },
          "output_type": "execute_result"
        }
      ]
    },
    {
      "cell_type": "markdown",
      "metadata": {
        "id": "uC4k3wgZI4E-"
      },
      "source": [
        "Exercício 2:"
      ]
    },
    {
      "cell_type": "code",
      "metadata": {
        "colab": {
          "base_uri": "https://localhost:8080/"
        },
        "id": "nw5eJ7ivI6eo",
        "outputId": "40cf4da2-1649-4660-ffbe-9e95c385a946"
      },
      "source": [
        "número = input('Digite um número:')\n",
        "print(f'O número informado foi {número}')"
      ],
      "execution_count": null,
      "outputs": [
        {
          "name": "stdout",
          "output_type": "stream",
          "text": [
            "Digite um número:73\n",
            "O número informado foi 73\n"
          ]
        }
      ]
    },
    {
      "cell_type": "markdown",
      "metadata": {
        "id": "NoULm7ktKVK-"
      },
      "source": [
        "Exercício 3"
      ]
    },
    {
      "cell_type": "code",
      "metadata": {
        "colab": {
          "base_uri": "https://localhost:8080/"
        },
        "id": "S2lbMc5gKXeO",
        "outputId": "e3cecb05-579c-4568-e1eb-08ae31fd243d"
      },
      "source": [
        "número_1 = int(input('Digite um número:'))\n",
        "número_2 = int(input('Digite outro número:'))\n",
        "soma = número_1 + número_2\n",
        "print(f'A soma dos dois números é {soma}')"
      ],
      "execution_count": null,
      "outputs": [
        {
          "name": "stdout",
          "output_type": "stream",
          "text": [
            "Digite um número:73\n",
            "Digite outro número:82\n",
            "A soma dos dois números é 155\n"
          ]
        }
      ]
    },
    {
      "cell_type": "markdown",
      "metadata": {
        "id": "iL7E2TYDbX13"
      },
      "source": [
        "Exercício 17\n"
      ]
    },
    {
      "cell_type": "markdown",
      "metadata": {
        "id": "Lt_fQAGNcgrS"
      },
      "source": [
        "Faça um Programa para uma loja de tintas. O programa deverá pedir o tamanho em metros quadrados da área a ser pintada. Considere que a cobertura da tinta é de 1 litro para cada 6 metros quadrados e que a tinta é vendida em latas de 18 litros, que custam R$ 80,00 ou em galões de 3,6 litros, que custam R 25,00.\n",
        "Informe ao usuário as quantidades de tinta a serem compradas e os respectivos preços em 3 situações:\n",
        "\n",
        "comprar apenas latas de 18 litros;\n",
        "\n",
        "comprar apenas galões de 3,6 litros;\n",
        "\n",
        "misturar latas e galões, de forma que o desperdício de tinta seja menor. Acrescente 10% de folga e sempre arredonde os valores para cima, isto é, considere latas cheias."
      ]
    },
    {
      "cell_type": "code",
      "metadata": {
        "colab": {
          "base_uri": "https://localhost:8080/"
        },
        "id": "fc5cGIIucpLw",
        "outputId": "72c22084-0e52-4e14-c806-06809127ffb3"
      },
      "source": [
        "import math\n",
        "\n",
        "print('Obs.: Digite . ponto para substituir , vírgula')\n",
        "\n",
        "altura = float(input('Altura: '))\n",
        "largura = float(input('Largura: '))\n",
        "área = altura * largura # Em metro quadrado\n",
        "print(f'Metro Quadrado: {área}m2')\n",
        "\n",
        "folga = área+área*0.10 # 10% a mais de sobra\n",
        "cobertura = folga/6 # Litros por metro quadrado\n",
        "print(f'Rendimento: {cobertura}L')\n",
        "\n",
        "# Compra de tintas com apenas latas de 18l:\n",
        "litros_por_lata = 18\n",
        "número_de_latas = cobertura / litros_por_lata\n",
        "valor_da_lata = 80.00\n",
        "latas = math.ceil(número_de_latas)\n",
        "total = latas*valor_da_lata\n",
        "print(f'Você precisará de {latas} Latas de 18L, Totalizando em R$ {total}0')\n",
        "\n",
        "# Compra de tintas com apenas galões de 3.6l:\n",
        "litros_por_galão = 3.6\n",
        "número_de_galões = cobertura / litros_por_galão\n",
        "valor_do_galão = 25.00\n",
        "galões = math.ceil(número_de_galões)\n",
        "total_galão = galões*valor_do_galão\n",
        "print(f'Você precisará de {galões} galões de 3.6L, Totalizando em R$ {total_galão}0')\n",
        "\n",
        "# Compra de tinta otimizada utilizando latas e galões:\n",
        "latas = math.floor(número_de_latas)\n",
        "total = latas*valor_da_lata\n",
        "litros_restantes = cobertura % litros_por_lata\n",
        "número_de_galões = litros_restantes / litros_por_galão\n",
        "galões = math.ceil(número_de_galões)\n",
        "resultado_otimizado = latas*valor_da_lata + galões*valor_do_galão\n",
        "print(f'Você precisará de {galões} galões de 3.6L e {latas} latas de 18L, Totalizando em R$ {resultado_otimizado}0')\n",
        "\n"
      ],
      "execution_count": null,
      "outputs": [
        {
          "name": "stdout",
          "output_type": "stream",
          "text": [
            "Obs.: Digite . ponto para substituir , vírgula\n",
            "Altura: 6\n",
            "Largura: 70\n",
            "Metro Quadrado: 420.0m2\n",
            "Rendimento: 77.0L\n",
            "Você precisará de 5 Latas de 18L, Totalizando em R$ 400.00\n",
            "Você precisará de 22 galões de 3.6L, Totalizando em R$ 550.00\n",
            "Você precisará de 2 galões de 3.6L e 4 latas de 18L, Totalizando em R$ 370.00\n"
          ]
        }
      ]
    },
    {
      "cell_type": "markdown",
      "metadata": {
        "id": "ElDksMPRiEfn"
      },
      "source": [
        "##[ Estrutura de Decisão](https://wiki.python.org.br/EstruturaDeDecisao)"
      ]
    },
    {
      "cell_type": "markdown",
      "metadata": {
        "id": "S0wHJuFfiS9y"
      },
      "source": [
        "Exercício 3"
      ]
    },
    {
      "cell_type": "code",
      "metadata": {
        "colab": {
          "base_uri": "https://localhost:8080/"
        },
        "id": "OhpB_xFniUxs",
        "outputId": "ac7e19b0-88c4-4f5a-834c-0ddf593771e6"
      },
      "source": [
        "True, False\n",
        "print(5<3)\n",
        "print(5>3)\n",
        "print('m'=='a')\n",
        "print('anderson'.upper(), 'ANDERSON'.lower())"
      ],
      "execution_count": null,
      "outputs": [
        {
          "name": "stdout",
          "output_type": "stream",
          "text": [
            "False\n",
            "True\n",
            "False\n",
            "ANDERSON anderson\n"
          ]
        }
      ]
    },
    {
      "cell_type": "code",
      "metadata": {
        "colab": {
          "base_uri": "https://localhost:8080/"
        },
        "id": "ssNYj3sBiaEr",
        "outputId": "562547e8-32d9-441a-810e-5fac43891522"
      },
      "source": [
        "sexo = input('Digite o sexo (M para Masculino, F para Feminino, I para Indefinido): ').upper()\n",
        "if sexo == 'M':\n",
        "  print('Masculino')\n",
        "elif sexo == 'F':\n",
        "  print('Feminino')\n",
        "elif sexo == 'I':\n",
        "  print('Indefinido')\n",
        "else:\n",
        "  print('Inválido')\n",
        "\n",
        "print('Finalizou o programa')"
      ],
      "execution_count": null,
      "outputs": [
        {
          "name": "stdout",
          "output_type": "stream",
          "text": [
            "Digite o sexo (M para Masculino, F para Feminino, I para Indefinido): j\n",
            "Inválido\n",
            "Finalizou o programa\n"
          ]
        }
      ]
    },
    {
      "cell_type": "markdown",
      "metadata": {
        "id": "i8V3UtRomyXs"
      },
      "source": [
        "Exercício 5"
      ]
    },
    {
      "cell_type": "markdown",
      "metadata": {
        "id": "Sj5AbCoNpRyj"
      },
      "source": [
        "Faça um programa para a leitura de duas notas parciais de um aluno. O programa deve calcular a média alcançada por aluno e apresentar:\n",
        "\n",
        "A mensagem \"Aprovado\", se a média alcançada for maior ou igual a sete;\n",
        "\n",
        "A mensagem \"Reprovado\", se a média for menor do que sete;\n",
        "\n",
        "A mensagem \"Aprovado com Distinção\", se a média for igual a dez."
      ]
    },
    {
      "cell_type": "code",
      "metadata": {
        "colab": {
          "base_uri": "https://localhost:8080/"
        },
        "id": "9FsZVnwOpWGg",
        "outputId": "cff9528a-eeac-44b7-8d8f-78faf0e7acd8"
      },
      "source": [
        "print('Notas de 0 a 10')\n",
        "notas = []\n",
        "primeira_nota = float(input('Primeira nota: '))\n",
        "segunda_nota = float(input('Segunda nota: '))\n",
        "notas.append(primeira_nota)\n",
        "notas.append(segunda_nota)\n",
        "soma_das_notas = sum(notas)\n",
        "quantidade = len(notas)\n",
        "média = soma_das_notas / quantidade\n",
        "print(média)\n",
        "\n",
        "if média == 10:\n",
        "  print('APROVADO COM DISTINÇÃO!!!')\n",
        "elif média >= 7:\n",
        "  print('APROVADO!!!')\n",
        "elif média < 7:\n",
        "  print('Reprovado')\n",
        "\n"
      ],
      "execution_count": null,
      "outputs": [
        {
          "name": "stdout",
          "output_type": "stream",
          "text": [
            "Notas de 0 a 10\n",
            "Primeira nota: 6\n",
            "Segunda nota: 8\n",
            "7.0\n",
            "APROVADO!!!\n"
          ]
        }
      ]
    },
    {
      "cell_type": "markdown",
      "metadata": {
        "id": "ccFGjt8OJj8F"
      },
      "source": [
        "Exercício 19\n"
      ]
    },
    {
      "cell_type": "code",
      "metadata": {
        "colab": {
          "base_uri": "https://localhost:8080/"
        },
        "id": "-Oth1tlGJmFh",
        "outputId": "d6938a7b-fb8d-4e18-94d2-4ae91fd352ec"
      },
      "source": [
        "numero = 22\n",
        "centenas_str = dezenas_str = unidades_str = ''\n",
        "\n",
        "centenas_int, numero = divmod(numero, 100)\n",
        "\n",
        "partes_numericas=0\n",
        "\n",
        "if centenas_int == 1:\n",
        "  centenas_str = '1 centena'\n",
        "  partes_numericas+=1\n",
        "elif centenas_int > 1:\n",
        "  centenas_str = f'{centenas_int} centenas'\n",
        "  partes_numericas+=1\n",
        "\n",
        "dezenas_int, numero = divmod(numero, 10)\n",
        "\n",
        "if dezenas_int == 1:\n",
        "  dezenas_str = '1 dezena'\n",
        "  partes_numericas+=1\n",
        "elif dezenas_int > 1:\n",
        "  dezenas_str = f'{dezenas_int} dezenas'\n",
        "  partes_numericas+=1\n",
        "\n",
        "if numero == 1:\n",
        "  unidade_str = '1 unidade'\n",
        "  partes_numericas+=1\n",
        "elif numero > 1:\n",
        "  unidades_str = f'{numero} unidades'\n",
        "  partes_numericas+=1\n",
        "\n",
        "if partes_numericas == 0:\n",
        "  print('Númeor 0 não possui centenas, dezenas ou unidades')\n",
        "elif partes_numericas == 1:\n",
        "  print(centenas_str + dezenas_str + unidades_str)\n",
        "elif partes_numericas == 3:\n",
        "  print(f'{centenas_str}, {dezenas_str} e {unidades_str}')\n",
        "elif partes_numericas == 2:\n",
        "  if centenas_str != '':\n",
        "    segunda_parte = dezenas_str + unidades_str\n",
        "    print(f'{centenas_str} e {segunda_parte}')\n",
        "  else: \n",
        "    print(f'{dezenas_str} e {unidades_str}')\n",
        "\n"
      ],
      "execution_count": null,
      "outputs": [
        {
          "name": "stdout",
          "output_type": "stream",
          "text": [
            "2 dezenas e 2 unidades\n"
          ]
        }
      ]
    },
    {
      "cell_type": "markdown",
      "metadata": {
        "id": "hFILVgsupeO0"
      },
      "source": [
        "Exercício 21"
      ]
    },
    {
      "cell_type": "code",
      "metadata": {
        "colab": {
          "base_uri": "https://localhost:8080/"
        },
        "id": "-x-4WDLYpid3",
        "outputId": "2fcf82bf-6f5f-4e5c-de33-41d6d9c63490"
      },
      "source": [
        "saque = 299\n",
        "\n",
        "notas_de_100 = notas_de_50 = notas_de_10 = notas_de_5 = notas_de_1 = 0\n",
        "\n",
        "notas_de_100, saque = divmod(saque, 100)\n",
        "\n",
        "notas_de_50, saque = divmod(saque, 50)\n",
        "\n",
        "notas_de_10, saque = divmod(saque, 10)\n",
        "\n",
        "notas_de_5, saque = divmod(saque, 5)\n",
        "\n",
        "notas_de_1, saque = divmod(saque, 1)\n",
        "\n",
        "if notas_de_100 > 0:\n",
        "  print(f'{notas_de_100} nota(s) de 100')\n",
        "\n",
        "if notas_de_50 > 0:\n",
        "  print(f'{notas_de_50} nota(s) de 50')\n",
        "\n",
        "if notas_de_10 > 0:\n",
        "  print(f'{notas_de_10} nota(s) de 10')\n",
        "\n",
        "if notas_de_5 > 0:\n",
        "  print(f'{notas_de_5} nota(s) de 5')\n",
        "\n",
        "if notas_de_1 > 0:\n",
        "  print(f'{notas_de_1} nota(s) de 1')\n"
      ],
      "execution_count": null,
      "outputs": [
        {
          "name": "stdout",
          "output_type": "stream",
          "text": [
            "2 nota(s) de 100\n",
            "1 nota(s) de 50\n",
            "4 nota(s) de 10\n",
            "1 nota(s) de 5\n",
            "4 nota(s) de 1\n"
          ]
        }
      ]
    },
    {
      "cell_type": "markdown",
      "metadata": {
        "id": "LJJYGM4Ws9sB"
      },
      "source": [
        "## [Estrutura de Repetição](https://wiki.python.org.br/EstruturaDeRepeticao)"
      ]
    },
    {
      "cell_type": "markdown",
      "metadata": {
        "id": "mNfI10JJvwJv"
      },
      "source": [
        "Exercício 1"
      ]
    },
    {
      "cell_type": "code",
      "metadata": {
        "colab": {
          "base_uri": "https://localhost:8080/"
        },
        "id": "PSuOZiP0tQsU",
        "outputId": "5090a225-b961-4d88-a982-6ffcdccfe88b"
      },
      "source": [
        "while True:\n",
        "  try:\n",
        "    numero = int(input('digite um valor de 0 a 10: '))\n",
        "  except ValueError:\n",
        "    print('Deve ser fornecido um valor inteiro')\n",
        "  else:\n",
        "    if 0 <= numero <= 10:\n",
        "      print(f'Número informado é {numero}')\n",
        "      break\n",
        "    else:\n",
        "      print('O número deve estar entre 0 a 10')"
      ],
      "execution_count": null,
      "outputs": [
        {
          "name": "stdout",
          "output_type": "stream",
          "text": [
            "digite um valor de 0 a 10: 18\n",
            "O número deve estar entre 0 a 10\n",
            "digite um valor de 0 a 10: 25\n",
            "O número deve estar entre 0 a 10\n",
            "digite um valor de 0 a 10: 32\n",
            "O número deve estar entre 0 a 10\n",
            "digite um valor de 0 a 10: 10\n",
            "Número informado é 10\n"
          ]
        }
      ]
    },
    {
      "cell_type": "markdown",
      "metadata": {
        "id": "KSgY4KlXxH1w"
      },
      "source": [
        "Exercício 4:\n",
        "\n",
        "Supondo que a população de um país A seja da ordem de 80000 habitantes com uma taxa anual de crescimento de 3% e que a população de B seja 200000 habitantes com uma taxa de crescimento de 1.5%. Faça um programa que calcule e escreva o número de anos necessários para que a população do país A ultrapasse ou iguale a população do país B, mantidas as taxas de crescimento."
      ]
    },
    {
      "cell_type": "code",
      "metadata": {
        "colab": {
          "base_uri": "https://localhost:8080/"
        },
        "id": "nXF4C4z_xPMk",
        "outputId": "71b1f507-55a3-40d1-c0fa-125459abaaf8"
      },
      "source": [
        "\n",
        "pop_a = 80_000\n",
        "pop_b = 200_000\n",
        "taxa_cres_a = 1.03\n",
        "taxa_cres_b = 1.015\n",
        "anos = 0\n",
        "\n",
        "while pop_a < pop_b:\n",
        "  #print(f'####### População do ano: {anos}')\n",
        "  #print(f'População de A: {pop_a}')\n",
        "  #print(f'População de B: {pop_b}')\n",
        "  anos += 1\n",
        "  pop_a = int(pop_a * taxa_cres_a)\n",
        "  pop_b *= taxa_cres_b\n",
        "  pop_b = int(pop_b)\n",
        "\n",
        "print(f'# População do ano: {anos}')\n",
        "print(f'População de A: {pop_a}')\n",
        "print(f'População de B: {pop_b}')"
      ],
      "execution_count": null,
      "outputs": [
        {
          "name": "stdout",
          "output_type": "stream",
          "text": [
            "# População do ano: 63\n",
            "População de A: 514954\n",
            "População de B: 510908\n"
          ]
        }
      ]
    },
    {
      "cell_type": "markdown",
      "metadata": {
        "id": "PHvFAwFUeA46"
      },
      "source": [
        "Exercício 7:"
      ]
    },
    {
      "cell_type": "code",
      "metadata": {
        "colab": {
          "base_uri": "https://localhost:8080/"
        },
        "id": "JQTZUo_-eDdz",
        "outputId": "377c1277-1cf4-4ef0-8b36-a7d4c0219c35"
      },
      "source": [
        "maximo = float(input(\"Digite um número: \"))\n",
        "\n",
        "for _ in range(4):\n",
        "  maximo = max(maximo, float(input(\"Digite um número: \")))\n",
        "  print(f'Número máximo encontrado até agora é: {maximo}')"
      ],
      "execution_count": null,
      "outputs": [
        {
          "name": "stdout",
          "output_type": "stream",
          "text": [
            "Digite um número: 70\n",
            "Digite um número: 2\n",
            "Número máximo encontrado até agora é: 70.0\n",
            "Digite um número: 100\n",
            "Número máximo encontrado até agora é: 100.0\n",
            "Digite um número: 5\n",
            "Número máximo encontrado até agora é: 100.0\n",
            "Digite um número: 6\n",
            "Número máximo encontrado até agora é: 100.0\n"
          ]
        }
      ]
    },
    {
      "cell_type": "markdown",
      "metadata": {
        "id": "QsD7uNypsBde"
      },
      "source": [
        "Exercício 8:\n",
        "Faça um programa que leia 5 números e informe a soma e a média dos números."
      ]
    },
    {
      "cell_type": "code",
      "metadata": {
        "colab": {
          "base_uri": "https://localhost:8080/"
        },
        "id": "TK7naKzlsNLI",
        "outputId": "9d843330-47ae-499e-8399-d2a427777432"
      },
      "source": [
        "soma = float(input(\"Digite um número: \"))\n",
        "\n",
        "for n in range(2, 6):\n",
        "  soma +=  float(input(\"Digite um número: \"))\n",
        "  média = soma / n\n",
        "  print(f'A soma dos números é: {soma}')\n",
        "  print(f'A média é: {média}')\n"
      ],
      "execution_count": null,
      "outputs": [
        {
          "name": "stdout",
          "output_type": "stream",
          "text": [
            "Digite um número: 4\n",
            "Digite um número: 8\n",
            "A soma dos números é: 12.0\n",
            "A média é: 6.0\n",
            "Digite um número: 7\n",
            "A soma dos números é: 19.0\n",
            "A média é: 6.333333333333333\n",
            "Digite um número: 20\n",
            "A soma dos números é: 39.0\n",
            "A média é: 9.75\n",
            "Digite um número: 7\n",
            "A soma dos números é: 46.0\n",
            "A média é: 9.2\n"
          ]
        }
      ]
    },
    {
      "cell_type": "markdown",
      "metadata": {
        "id": "iHjoxbMu586f"
      },
      "source": [
        "## [Exercícios Lista](https://wiki.python.org.br/ExerciciosListas)"
      ]
    },
    {
      "cell_type": "markdown",
      "metadata": {
        "id": "cSQigJCl1XUv"
      },
      "source": [
        "Exercício 16"
      ]
    },
    {
      "cell_type": "code",
      "metadata": {
        "colab": {
          "base_uri": "https://localhost:8080/"
        },
        "id": "wqw7P95w1ZWh",
        "outputId": "96aea282-3cc1-49d2-9b6d-82c068ffafb5"
      },
      "source": [
        "salarios = [200, 250, 320, 413, 516, 680, 791, 877, 999, 1000, 2000, 3000]\n",
        "contagem_de_faixa_salarial = [0] * 9\n",
        "for salario in salarios:\n",
        "  indice = salario // 100 - 2\n",
        "  indice_maximo = len(contagem_de_faixa_salarial) - 1\n",
        "  indice = min(indice, indice_maximo)\n",
        "  contagem_de_faixa_salarial[indice] += 1\n",
        "\n",
        "print(contagem_de_faixa_salarial)"
      ],
      "execution_count": null,
      "outputs": [
        {
          "name": "stdout",
          "output_type": "stream",
          "text": [
            "[2, 1, 1, 1, 1, 1, 1, 1, 3]\n"
          ]
        }
      ]
    },
    {
      "cell_type": "markdown",
      "metadata": {
        "id": "L191ZQnf5xoi"
      },
      "source": [
        "## [Exercícios de Funções](https://wiki.python.org.br/ExerciciosFuncoes)"
      ]
    },
    {
      "cell_type": "markdown",
      "metadata": {
        "id": "_jcl70oueXjP"
      },
      "source": [
        "Exercício 1"
      ]
    },
    {
      "cell_type": "code",
      "metadata": {
        "colab": {
          "base_uri": "https://localhost:8080/"
        },
        "id": "EqFDN-iecLrR",
        "outputId": "181cba77-a534-41ea-dd22-3aa58400a06b"
      },
      "source": [
        "def imprimir_triangulo_de_numeros(n: int):\n",
        "  for i in range(1, n + 1):\n",
        "    for _ in range(i):\n",
        "      print(i, end= '   ')\n",
        "    print('')\n",
        "\n",
        "print('Triangulo com 1')\n",
        "imprimir_triangulo_de_numeros(1)\n",
        "print('Triangulo com 2')\n",
        "imprimir_triangulo_de_numeros(2)\n",
        "print('Triangulo com 3')\n",
        "imprimir_triangulo_de_numeros(3)"
      ],
      "execution_count": null,
      "outputs": [
        {
          "name": "stdout",
          "output_type": "stream",
          "text": [
            "Triangulo com 1\n",
            "1   \n",
            "Triangulo com 2\n",
            "1   \n",
            "2   2   \n",
            "Triangulo com 3\n",
            "1   \n",
            "2   2   \n",
            "3   3   3   \n"
          ]
        }
      ]
    },
    {
      "cell_type": "markdown",
      "metadata": {
        "id": "5gYlvXcWmjul"
      },
      "source": [
        "Exercício 2"
      ]
    },
    {
      "cell_type": "code",
      "metadata": {
        "colab": {
          "base_uri": "https://localhost:8080/"
        },
        "id": "4QWkgQEImilw",
        "outputId": "085f24bc-2559-43f8-9a23-38ada200a8f0"
      },
      "source": [
        "def imprimir_triangulo_de_numeros_crescentes(n: int):\n",
        "  for linha in range(1, n + 1):\n",
        "    for coluna in range(1, linha + 1):\n",
        "      print(coluna, end= '   ')\n",
        "    print('')\n",
        "\n",
        "print('Triangulo com 1')\n",
        "imprimir_triangulo_de_numeros_crescentes(1)\n",
        "print('Triangulo com 2')\n",
        "imprimir_triangulo_de_numeros_crescentes(2)\n",
        "print('Triangulo com 3')\n",
        "imprimir_triangulo_de_numeros_crescentes(3)"
      ],
      "execution_count": null,
      "outputs": [
        {
          "name": "stdout",
          "output_type": "stream",
          "text": [
            "Triangulo com 1\n",
            "1   \n",
            "Triangulo com 2\n",
            "1   \n",
            "1   2   \n",
            "Triangulo com 3\n",
            "1   \n",
            "1   2   \n",
            "1   2   3   \n"
          ]
        }
      ]
    },
    {
      "cell_type": "markdown",
      "metadata": {
        "id": "gd1JbOOLqyZ6"
      },
      "source": [
        "## [Exercícios com Strings](https://wiki.python.org.br/ExerciciosComStrings)"
      ]
    },
    {
      "cell_type": "markdown",
      "metadata": {
        "id": "q4uB61H8rEFV"
      },
      "source": [
        "Exercício 1"
      ]
    },
    {
      "cell_type": "code",
      "metadata": {
        "colab": {
          "base_uri": "https://localhost:8080/"
        },
        "id": "xGw0-ZjcrJLk",
        "outputId": "e98efb28-320e-4519-d8b6-fb1d0a271e10"
      },
      "source": [
        "s1= input('Digite uma string: ')\n",
        "s2= input('Digite outra string: ')\n",
        "\n",
        "tamanho1 = len(s1)\n",
        "tamanho2 = len(s2)\n",
        "\n",
        "print(f'\"{s1}\": {tamanho1} caracteres')\n",
        "print(f'\"{s2}\": {tamanho2} caracteres')\n",
        "\n",
        "comparação_de_tamanho = 'diferentes'\n",
        "comparação_de_conteudo = 'diferentes'\n",
        "\n",
        "if s1 == s2:\n",
        "  comparação_de_tamanho = 'iguais'\n",
        "  comparação_de_conteudo = 'iguais'\n",
        "elif tamanho1 == tamanho2:\n",
        "  comparação_de_tamanho = 'iguais'\n",
        "\n",
        "\n",
        "print(f'As duas strings são de tamanhos {comparação_de_tamanho}')\n",
        "print(f'As duas strings possuem conteúdo  {comparação_de_conteudo}')"
      ],
      "execution_count": null,
      "outputs": [
        {
          "name": "stdout",
          "output_type": "stream",
          "text": [
            "Digite uma string: gim\n",
            "Digite outra string: fim\n",
            "\"gim\": 3 caracteres\n",
            "\"fim\": 3 caracteres\n",
            "As duas strings são de tamanhos iguais\n",
            "As duas strings possuem conteúdo  diferentes\n"
          ]
        }
      ]
    },
    {
      "cell_type": "markdown",
      "metadata": {
        "id": "o04W9uYpwwYy"
      },
      "source": [
        "Exercício 2"
      ]
    },
    {
      "cell_type": "code",
      "metadata": {
        "colab": {
          "base_uri": "https://localhost:8080/"
        },
        "id": "Cnq8RajCwzvI",
        "outputId": "39d630fc-f80e-4547-e9d1-5404d9db079d"
      },
      "source": [
        "nome = 'Anderson'.upper()\n",
        "nome_invertido_por_letras = ''.join(reversed(nome))\n",
        "\n",
        "print(nome_invertido_por_letras)"
      ],
      "execution_count": null,
      "outputs": [
        {
          "name": "stdout",
          "output_type": "stream",
          "text": [
            "NOSREDNA\n"
          ]
        }
      ]
    },
    {
      "cell_type": "markdown",
      "metadata": {
        "id": "5wfU_EM6ChmM"
      },
      "source": [
        "Exercício 11"
      ]
    },
    {
      "cell_type": "code",
      "metadata": {
        "colab": {
          "background_save": true,
          "base_uri": "https://localhost:8080/"
        },
        "id": "UOi63BijCkzx",
        "outputId": "96b9ca4c-1cef-4882-a26f-d4a4a51963bd"
      },
      "source": [
        "palavra = 'Programador'.upper()\n",
        "\n",
        "print('Jogo da Forca')\n",
        "\n",
        "print('A palavra é:  ', end='')\n",
        "for letra in palavra:\n",
        "  print(f'_ ', end='')\n",
        "\n",
        "conjunto_letras_palavra = set(palavra)\n",
        "conjunto_letras_digitadas = set()\n",
        "erros = 0\n",
        "\n",
        "while (not conjunto_letras_palavra.issubset(conjunto_letras_digitadas)) and erros < 7:\n",
        "  print()\n",
        "  print()\n",
        "  letra_digitada = input('Digite uma letra: ').upper()\n",
        "  conjunto_letras_digitadas.add(letra_digitada)\n",
        "  if letra_digitada in conjunto_letras_palavra:\n",
        "    print('A palavra é: ', end='')\n",
        "    for letra in palavra:\n",
        "      if letra in conjunto_letras_digitadas:\n",
        "        print(f'{letra} ', end='')\n",
        "      else:\n",
        "        print('_ ', end='')\n",
        "  else:\n",
        "    erros += 1\n",
        "    print(f'-> Erro {erros} de 6 chances, tente de novo!')\n",
        "  \n",
        "  print()\n",
        "  print('Letras já digitadas: ',conjunto_letras_digitadas)\n",
        "\n",
        "if erros < 7:\n",
        "  print(\"Parabéns, você ganhou!\")\n",
        "else:\n",
        "  print('Infelizmente não foi dessa vez. Você perdeu.')\n",
        "\n",
        "\n",
        "  "
      ],
      "execution_count": null,
      "outputs": [
        {
          "name": "stdout",
          "output_type": "stream",
          "text": [
            "Jogo da Forca\n",
            "A palavra é:  _ _ _ _ _ _ _ _ _ _ _ \n",
            "\n"
          ]
        }
      ]
    },
    {
      "cell_type": "markdown",
      "metadata": {
        "id": "toQQe3sAW8d1"
      },
      "source": [
        "2520 é o menor número inteiro que pode ser divisível por 1 a 10.\n",
        "\n",
        "Encontre o menor número inteiro que pode ser divisível por 1 a 20.\n",
        "\n",
        "Para resolver esse problema é necessário saber utilizar algumas dessas instruções básicas de programação como por exemplo:\n",
        "\n",
        "IF e ELSE\n",
        "FOR e WHILE\n",
        "Nos loops tem a instrução: break ou exit para interromper o loop\n",
        "Operadores matemáticos: +, -, /, * e %"
      ]
    },
    {
      "cell_type": "code",
      "metadata": {
        "id": "FdKts1s2W-ja"
      },
      "source": [
        ""
      ],
      "execution_count": null,
      "outputs": []
    }
  ]
}